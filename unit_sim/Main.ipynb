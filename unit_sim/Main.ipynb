{
 "cells": [
  {
   "cell_type": "code",
   "execution_count": 1,
   "metadata": {},
   "outputs": [
    {
     "ename": "ImportError",
     "evalue": "No module named neuron",
     "output_type": "error",
     "traceback": [
      "\u001b[0;31m---------------------------------------------------------------------------\u001b[0m",
      "\u001b[0;31mImportError\u001b[0m                               Traceback (most recent call last)",
      "\u001b[0;32m<ipython-input-1-dbf195a19c44>\u001b[0m in \u001b[0;36m<module>\u001b[0;34m()\u001b[0m\n\u001b[0;32m----> 1\u001b[0;31m \u001b[0;32mfrom\u001b[0m \u001b[0mneuron\u001b[0m \u001b[0;32mimport\u001b[0m \u001b[0mh\u001b[0m\u001b[0;34m,\u001b[0m\u001b[0mgui\u001b[0m\u001b[0;34m\u001b[0m\u001b[0m\n\u001b[0m\u001b[1;32m      2\u001b[0m \u001b[0;32mfrom\u001b[0m \u001b[0mmatplotlib\u001b[0m\u001b[0;34m.\u001b[0m\u001b[0mpyplot\u001b[0m \u001b[0;32mimport\u001b[0m \u001b[0;34m*\u001b[0m\u001b[0;34m\u001b[0m\u001b[0m\n\u001b[1;32m      3\u001b[0m \u001b[0;32mfrom\u001b[0m \u001b[0mnumpy\u001b[0m \u001b[0;32mimport\u001b[0m \u001b[0;34m*\u001b[0m\u001b[0;34m\u001b[0m\u001b[0m\n\u001b[1;32m      4\u001b[0m \u001b[0;32mimport\u001b[0m \u001b[0mpandas\u001b[0m \u001b[0;32mas\u001b[0m \u001b[0mpd\u001b[0m\u001b[0;34m\u001b[0m\u001b[0m\n\u001b[1;32m      5\u001b[0m \u001b[0;31m#from numpy import *\u001b[0m\u001b[0;34m\u001b[0m\u001b[0;34m\u001b[0m\u001b[0m\n",
      "\u001b[0;31mImportError\u001b[0m: No module named neuron"
     ]
    }
   ],
   "source": [
    "from neuron import h,gui\n",
    "from matplotlib.pyplot import *\n",
    "from numpy import *\n",
    "import pandas as pd\n",
    "#from numpy import *\n",
    "#from matplotlib.pyplot import *\n",
    "import os,shutil,pickle\n",
    "from multiprocessing import Pool,Process\n",
    "import time\n",
    "from mpl_toolkits.mplot3d import axes3d, Axes3D\n",
    "from scipy import integrate\n",
    "from ChR2Dynamics import ChR2Dynamics\n",
    "from ptn_sim_morphology import *\n",
    "from ptn_sim_optostim import optostim\n",
    "from ptn_sim_soma import sphere_equi,soma_integrate_light\n",
    "from ptn_sim_neuron import *"
   ]
  },
  {
   "cell_type": "code",
   "execution_count": 6,
   "metadata": {},
   "outputs": [
    {
     "name": "stdout",
     "output_type": "stream",
     "text": [
      "            name datatype units      value\n",
      "0           ChR2     bool  none       True\n",
      "1     ChR2_level     real  none        0.8\n",
      "2            tau     real    ms         50\n",
      "3              R     real  MOhm        250\n",
      "4         soma_z     real    um         50\n",
      "5         soma_x     real    um          0\n",
      "6         soma_y     real    um        650\n",
      "7   morph_source   string  none      ALLEN\n",
      "8  morph_cell_id      int  none  471129934\n"
     ]
    },
    {
     "data": {
      "text/plain": [
       "(-180.4132915883, 153.9738433903, -686.3918344931301, 35.45033048773001)"
      ]
     },
     "execution_count": 6,
     "metadata": {},
     "output_type": "execute_result"
    },
    {
     "data": {
      "image/png": "[encoded data removed]",
      "text/plain": [
       "<Figure size 432x288 with 1 Axes>"
      ]
     },
     "metadata": {
      "needs_background": "light"
     },
     "output_type": "display_data"
    }
   ],
   "source": [
    "\n"
   ]
  },
  {
   "cell_type": "code",
   "execution_count": 2,
   "metadata": {
    "collapsed": true
   },
   "outputs": [],
   "source": [
    "class nrn_sim(object):\n",
    "    NBranches=0\n",
    "    somata=[]\n",
    "    branches_nrn=[]\n",
    "    N=[]\n",
    "    Ncnt=0\n",
    "    def __init__(self):\n",
    "        pass\n",
    "\n",
    "    \n",
    "            \n",
    "    def nrn_soma_sec(self,neuron_id):\n",
    "        #print neuron_id\n",
    "        return [s for s in h.allsec() if int(s.name()[1:4])==neuron_id and s.name()[5]=='s'][0]\n",
    "    \n",
    "    def nrn_dendrite_sec(self,neuron_id,branch_id):\n",
    "        return [s for s in h.allsec() if int(s.name()[1:4])==neuron_id and\n",
    "                int(s.name()[6:10])==branch_id and s.name()[5]=='d'][0]\n",
    "    def insert_neuron(self,n):\n",
    "        #self.clear()\n",
    "        self.Ncnt+=1\n",
    "        self.N.append(n)\n",
    "        \n",
    "        neuron_id=n.neuron_id\n",
    "        soma_CoM,soma_R=n.morph.soma_geometry()\n",
    "        h('create n{:03}_s0000'.format(n.neuron_id))\n",
    "        soma= self.nrn_soma_sec(neuron_id)\n",
    "        soma.L=soma.diam=soma_R*20\n",
    "        self.somata.append(soma)\n",
    "        \n",
    "        branches=n.morph.branches\n",
    "        swc=n.morph.swc\n",
    "        segments=n.morph.segments\n",
    "        \n",
    "        self.NBranches=len(branches)    \n",
    "        h.pt3dclear(sec=soma)\n",
    "        h.pt3dadd(soma_CoM[0],soma_CoM[1]-5,soma_CoM[2],soma.L,soma)\n",
    "        h.pt3dadd(soma_CoM[0],soma_CoM[1],soma_CoM[2],soma.L,soma)\n",
    "        \n",
    "        \n",
    "        soma.insert('hh')\n",
    "        soma.Ra=100\n",
    "        soma.cm=1\n",
    "        \"\"\"for seg in soma:\n",
    "            seg.hh.gnabar=0.12\n",
    "            seg.hh.gkbar=0.036\n",
    "            seg.hh.gl=0.0003\n",
    "            seg.hh.el=-54.3\"\"\"\n",
    "\n",
    "        for iBranch in range(self.NBranches):\n",
    "            h('create n{:03}_d{:04}'.format(neuron_id,iBranch))\n",
    "            cBranch_nrn=self.nrn_dendrite_sec(neuron_id,iBranch)\n",
    "            #print cBranch_nrn.name()\n",
    "            cBranch_nrn.Ra=100\n",
    "            cBranch_nrn.cm=1\n",
    "            cBranch_segments=segments[segments['branch_id']==iBranch]\n",
    "            #print cBranch_nrn.name(),len(cBranch_segments)\n",
    "            cBranch_nrn.L=len(cBranch_segments)*SEGMENT_LENGTH\n",
    "            cBranch_nrn.diam=5\n",
    "            cBranch_nrn.insert('pas')\n",
    "            cBranch_nrn.nseg=len(cBranch_segments)\n",
    "            for seg in cBranch_nrn:\n",
    "                seg.pas.g=0.002\n",
    "                seg.pas.e=-65\n",
    "                \n",
    "            cBranchParentID=int(branches[branches['branch_id']==iBranch]['parent_branch'])\n",
    "            cBranchPoint0_ID=int(branches[branches['branch_id']==iBranch]['start'])\n",
    "            cBranchPoint1_ID=int(branches[branches['branch_id']==iBranch]['end'])\n",
    "            \n",
    "            \"\"\"h.pt3dclear(sec=cBranch_nrn)\n",
    "            for ptSWC in range(cBranchPoint0_ID,cBranchPoint1_ID):\n",
    "                cBranchPoint=swc[swc['id']==cBranchPoint0_ID][['x','y','z']]\n",
    "            #cBranchPoint1=swc[swc['id']==cBranchPoint1_ID][['x','y','z']]\n",
    "            \n",
    "            #print double(cBranchPoint0['x'])\n",
    "            \n",
    "                h.pt3dadd(double(cBranchPoint['x']),double(cBranchPoint['y']),double(cBranchPoint['z']),1,cBranch_nrn)\n",
    "            \"\"\"\n",
    "            #h.pt3dadd(double(cBranchPoint1['x']),double(cBranchPoint1['y']),double(cBranchPoint1['z']),1,cBranch_nrn)\n",
    "            \n",
    "            if cBranchParentID==-1:\n",
    "                cBranch_nrn.connect(soma(0))\n",
    "            else:\n",
    "                cBranchParentSec=self.nrn_dendrite_sec(neuron_id,cBranchParentID)\n",
    "                cBranch_ParentBranch_Point0_ID=int(branches[branches['branch_id']==cBranchParentID]['start'])\n",
    "                cBranch_ParentBranch_Point1_ID=int(branches[branches['branch_id']==cBranchParentID]['end'])\n",
    "                cBranch_ParentPoint_ID=int(branches[branches['branch_id']==iBranch]['parent_point'])\n",
    "                \n",
    "                frac=(cBranch_ParentPoint_ID-cBranch_ParentBranch_Point0_ID)*1./(cBranch_ParentBranch_Point1_ID-cBranch_ParentBranch_Point0_ID)\n",
    "                cBranch_nrn.connect(cBranchParentSec(frac))\n",
    "        for sec in h.allsec():\n",
    "            h.pt3dclear(sec=sec)\n",
    "\n",
    "\n",
    "\n",
    "\n",
    "            \n",
    "                \n",
    "    def run(self,tstop=100.):\n",
    "        v_s=h.Vector()\n",
    "        v_d1=h.Vector()\n",
    "        v_d2=h.Vector()\n",
    "\n",
    "        t=h.Vector()#(linspace(0.))\n",
    "        #i_d3=h.Vector()\n",
    "        #t=h.Vector()\n",
    "        t.record(h._ref_t)\n",
    "        v_s.record(h.soma(0.5)._ref_v)\n",
    "        v_d1.record(self.branches_nrn[1](0.5)._ref_v)\n",
    "        v_d2.record(self.branches_nrn[2](0.5)._ref_v)\n",
    "        #v_d3.record(dend3(0.8)._ref_v)\n",
    "        h.tstop=tstop\n",
    "        h.run()\n",
    "        plot(t,v_s)\n",
    "        #plot(t,v_d1)\n",
    "        #plot(t,v_d2)\n",
    "        \n",
    "    def clear(self):\n",
    "        for d in h.allsec():\n",
    "            h.delete_section(d)\n",
    "    def topology(self):\n",
    "\n",
    "        print '-------'\n",
    "        h.topology()\n",
    "        \n",
    "    def current_to_nrnstim(self,tstim,istim,comp,frac):    \n",
    "        Nq=len(istim)                  \n",
    "        dt=tstim[1]-tstim[0]\n",
    "\n",
    "        stim=[None for i in range(Nq)]\n",
    "        #comp=h.soma#branches_nrn[0]\n",
    "        for jstim in range(Nq):\n",
    "            stim[jstim]=h.IClamp(comp(frac))\n",
    "            stim[jstim].dur=dt\n",
    "            stim[jstim].amp=istim[jstim]\n",
    "            stim[jstim].delay=tstim[jstim]\n",
    "        figure()\n",
    "        plot(tstim,[s.amp for s in stim],'.r')\n",
    "        return stim\n",
    "\n",
    "\n",
    "    \n",
    "N=nrn_sim()    \n",
    "lstCells=list_local_cells_allen()"
   ]
  },
  {
   "cell_type": "code",
   "execution_count": 3,
   "metadata": {},
   "outputs": [
    {
     "name": "stdout",
     "output_type": "stream",
     "text": [
      "479721491\n"
     ]
    },
    {
     "data": {
      "image/png": "[encoded data removed]",
      "text/plain": [
       "<Figure size 432x288 with 1 Axes>"
      ]
     },
     "metadata": {
      "needs_background": "light"
     },
     "output_type": "display_data"
    }
   ],
   "source": [
    "allen_cell_id=lstCells[5]\n",
    "print allen_cell_id\n",
    "n=neuron(1)\n",
    "n.assign_Allen_ID(allen_cell_id)\n",
    "#n.morph.translate([0,40,0])\n",
    "#print n.params\n",
    "#print n.get_param_value('morph_source')\n",
    "n.import_morphology()\n",
    "n.morph.draw({'Layout':'Branches','alpha':0.4})\n",
    "axis('equal')\n",
    "N.insert_neuron(n)\n",
    "\n",
    "\n",
    "#N.clear()\n",
    "\n",
    "\n",
    "#N.topology()\n",
    "\n",
    "#h.pt3dclear(sec=N.nrn_soma_sec(0))\n",
    "#h.pt3dadd(0,-5,0,12,N.nrn_soma_sec(0))\n",
    "#h.pt3dadd(0,0,0,1,N.nrn_soma_sec(0))\n",
    "\n",
    "#for sec in [s for s in h.allsec() if s.name()[5]=='d']:#[dend1,dend2]:#,dend3]:\n",
    "#    h.pt3dclear(sec=sec)\n",
    "#    print sec.name()\n",
    "#h.topology()"
   ]
  },
  {
   "cell_type": "code",
   "execution_count": null,
   "metadata": {
    "collapsed": true
   },
   "outputs": [],
   "source": [
    "N.clear()"
   ]
  },
  {
   "cell_type": "code",
   "execution_count": 4,
   "metadata": {},
   "outputs": [
    {
     "name": "stdout",
     "output_type": "stream",
     "text": [
      "\n",
      "|-|       n001_s0000(0-1)\n",
      " `---------|       n001_d0000(0-1)\n",
      " `----------|       n001_d0001(0-1)\n",
      " `----|       n001_d0002(0-1)\n",
      "    `---------|       n001_d0003(0-1)\n",
      "     `-------|       n001_d0004(0-1)\n",
      "       `--------|       n001_d0005(0-1)\n",
      "    `|       n001_d0006(0-1)\n",
      "   `-----------|       n001_d0007(0-1)\n",
      "          `-----|       n001_d0008(0-1)\n",
      " `--------|       n001_d0009(0-1)\n",
      "  `-|       n001_d0010(0-1)\n",
      " `----|       n001_d0011(0-1)\n",
      "   `----------|       n001_d0012(0-1)\n",
      "  `--------|       n001_d0013(0-1)\n",
      "    `---------|       n001_d0014(0-1)\n",
      " `-----------|       n001_d0015(0-1)\n",
      "  `----|       n001_d0016(0-1)\n",
      " `-----------|       n001_d0017(0-1)\n",
      "     `------|       n001_d0018(0-1)\n",
      "    `----|       n001_d0019(0-1)\n",
      "    `----|       n001_d0020(0-1)\n",
      "  `--------|       n001_d0021(0-1)\n",
      " `------|       n001_d0022(0-1)\n",
      "   `----|       n001_d0023(0-1)\n",
      "  `-------|       n001_d0024(0-1)\n",
      "    `-------|       n001_d0025(0-1)\n",
      "     `----------|       n001_d0026(0-1)\n",
      "   `-----------|       n001_d0027(0-1)\n",
      " `---------|       n001_d0028(0-1)\n",
      "   `---------|       n001_d0029(0-1)\n",
      "    `------------|       n001_d0030(0-1)\n",
      "    `---------|       n001_d0031(0-1)\n",
      " `------|       n001_d0032(0-1)\n",
      "   `---------------|       n001_d0033(0-1)\n",
      "        `--|       n001_d0034(0-1)\n",
      "    `---------------------------------------------|       n001_d0035(0-1)\n",
      "                                               `----|       n001_d0036(0-1)\n",
      "                                                 `-------|       n001_d0037(0-1)\n",
      "                                                  `----|       n001_d0038(0-1)\n",
      "                                          `----------|       n001_d0039(0-1)\n",
      "                                                 `------|       n001_d0040(0-1)\n",
      "                                               `--------|       n001_d0041(0-1)\n",
      "                                                 `------|       n001_d0042(0-1)\n",
      "                                                    `-|       n001_d0043(0-1)\n",
      "                                              `----------|       n001_d0044(0-1)\n",
      "                                                    `---|       n001_d0045(0-1)\n",
      "        `-----|       n001_d0046(0-1)\n",
      "             `-|       n001_d0047(0-1)\n",
      "           `------------|       n001_d0048(0-1)\n",
      "     `--------------|       n001_d0049(0-1)\n",
      "         `------|       n001_d0050(0-1)\n",
      "      `-------|       n001_d0051(0-1)\n",
      "   `---|       n001_d0052(0-1)\n",
      "    `-|       n001_d0053(0-1)\n",
      "   `----|       n001_d0054(0-1)\n",
      "\n"
     ]
    },
    {
     "data": {
      "text/plain": [
       "1.0"
      ]
     },
     "execution_count": 4,
     "metadata": {},
     "output_type": "execute_result"
    }
   ],
   "source": [
    "psh=h.PlotShape()\n",
    "psh.exec_menu('Show Diam')\n",
    "h.topology()\n",
    "#psh.exec_menu('test')"
   ]
  },
  {
   "cell_type": "code",
   "execution_count": 263,
   "metadata": {},
   "outputs": [
    {
     "data": {
      "image/png": "[encoded data removed]",
      "text/plain": [
       "<Figure size 432x288 with 1 Axes>"
      ]
     },
     "metadata": {
      "needs_background": "light"
     },
     "output_type": "display_data"
    }
   ],
   "source": [
    "\n",
    "plot([s.amp for s in stim])\n",
    "from numpy import *"
   ]
  },
  {
   "cell_type": "code",
   "execution_count": 6,
   "metadata": {},
   "outputs": [
    {
     "data": {
      "text/plain": [
       "'stim.delay=20\\nstim.dur=50\\nstim.amp=0.010\\n\\nstim2.delay=30\\nstim2.dur=0*1\\nstim2.amp=0.050\\n'"
      ]
     },
     "execution_count": 6,
     "metadata": {},
     "output_type": "execute_result"
    }
   ],
   "source": [
    "v_s=h.Vector()\n",
    "v_d1=h.Vector()\n",
    "v_d2=h.Vector()\n",
    "\n",
    "t=h.Vector()#(linspace(0.))\n",
    "i_d3=h.Vector()\n",
    "t=h.Vector()\n",
    "t.record(h._ref_t)\n",
    "sec=N.nrn_dendrite_sec(1,1)\n",
    "sec_test=N.nrn_dendrite_sec(1,8)\n",
    "soma=N.nrn_soma_sec(1)\n",
    "#sec=soma\n",
    "v_s.record(soma(0.5)._ref_v)\n",
    "v_d1.record(sec(0.001)._ref_v)\n",
    "v_d2.record(sec_test(0.8)._ref_v)\n",
    "h.tstop=100.0\n",
    "\n",
    "\"\"\"stim.delay=20\n",
    "stim.dur=50\n",
    "stim.amp=0.010\n",
    "\n",
    "stim2.delay=30\n",
    "stim2.dur=0*1\n",
    "stim2.amp=0.050\n",
    "\"\"\""
   ]
  },
  {
   "cell_type": "code",
   "execution_count": 8,
   "metadata": {},
   "outputs": [
    {
     "ename": "ValueError",
     "evalue": "argument not a density mechanism name.",
     "output_type": "error",
     "traceback": [
      "\u001b[1;31m\u001b[0m",
      "\u001b[1;31mValueError\u001b[0mTraceback (most recent call last)",
      "\u001b[1;32m<ipython-input-8-fe5a4fd2f241>\u001b[0m in \u001b[0;36m<module>\u001b[1;34m()\u001b[0m\n\u001b[0;32m      7\u001b[0m         \u001b[0msec\u001b[0m\u001b[1;33m.\u001b[0m\u001b[0mL\u001b[0m\u001b[1;33m=\u001b[0m\u001b[0msec\u001b[0m\u001b[1;33m.\u001b[0m\u001b[0mdiam\u001b[0m\u001b[1;33m=\u001b[0m\u001b[1;36m20\u001b[0m\u001b[1;33m\u001b[0m\u001b[0m\n\u001b[0;32m      8\u001b[0m         \u001b[0msec\u001b[0m\u001b[1;33m.\u001b[0m\u001b[0minsert\u001b[0m\u001b[1;33m(\u001b[0m\u001b[1;34m'hh'\u001b[0m\u001b[1;33m)\u001b[0m\u001b[1;33m\u001b[0m\u001b[0m\n\u001b[1;32m----> 9\u001b[1;33m         \u001b[0msec\u001b[0m\u001b[1;33m.\u001b[0m\u001b[0minsert\u001b[0m\u001b[1;33m(\u001b[0m\u001b[1;34m'Nap'\u001b[0m\u001b[1;33m)\u001b[0m\u001b[1;33m\u001b[0m\u001b[0m\n\u001b[0m\u001b[0;32m     10\u001b[0m         \u001b[1;32mfor\u001b[0m \u001b[0mseg\u001b[0m \u001b[1;32min\u001b[0m \u001b[0msec\u001b[0m\u001b[1;33m:\u001b[0m\u001b[1;33m\u001b[0m\u001b[0m\n\u001b[0;32m     11\u001b[0m             \u001b[0mseg\u001b[0m\u001b[1;33m.\u001b[0m\u001b[0mNap\u001b[0m\u001b[1;33m.\u001b[0m\u001b[0mgbar_Nap\u001b[0m\u001b[1;33m=\u001b[0m\u001b[1;36m6e-05\u001b[0m\u001b[1;33m\u001b[0m\u001b[0m\n",
      "\u001b[1;31mValueError\u001b[0m: argument not a density mechanism name."
     ]
    }
   ],
   "source": [
    "for sec in h.allsec():\n",
    "    sec.Ra=100\n",
    "    sec.cm=1\n",
    "    if sec.name()[5]=='d':\n",
    "        sec.diam=1\n",
    "    elif sec.name()[5]=='s':\n",
    "        sec.L=sec.diam=20\n",
    "        sec.insert('hh')\n",
    "        sec.insert('Nap')\n",
    "        for seg in sec:\n",
    "            seg.Nap.gbar_Nap=6e-05\n",
    "        #    seg.hh.gnabar=0.06 #mS/cm^2\n",
    "        #    seg.hh.gkbar=0.006 #mS/cm^2\n",
    "        #    seg.hh.gl=0.00008   #S/cm^2\n",
    "tstim=linspace(20,20.1,21)\n",
    "istim=tstim*0+5\n",
    "s=N.current_to_nrnstim(tstim,istim,soma,0.5)\n",
    "grid ('on')\n",
    "h.finitialize(-61)\n",
    "figure()\n",
    "h.run()\n",
    "    #plot(t,v_d2)\n",
    "plot(t,v_s)\n",
    "#plot(t,v_d1)\n",
    "#plot(t,v_d2)\n",
    "xlim([19,50])"
   ]
  }
 ],
 "metadata": {
  "kernelspec": {
   "display_name": "Python 2",
   "language": "python",
   "name": "python2"
  },
  "language_info": {
   "codemirror_mode": {
    "name": "ipython",
    "version": 2
   },
   "file_extension": ".py",
   "mimetype": "text/x-python",
   "name": "python",
   "nbconvert_exporter": "python",
   "pygments_lexer": "ipython2",
   "version": "2.7.13"
  }
 },
 "nbformat": 4,
 "nbformat_minor": 2
}
