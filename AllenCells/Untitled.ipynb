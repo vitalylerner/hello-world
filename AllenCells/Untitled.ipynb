{
 "cells": [
  {
   "cell_type": "code",
   "execution_count": 17,
   "metadata": {},
   "outputs": [],
   "source": [
    "import pandas as pd\n",
    "from matplotlib.pyplot import *\n",
    "from numpy import *\n",
    "fCells_path='List_RBP4.csv'\n",
    "dt = pd.read_csv(fCells_path) \n",
    "#SWC_LUT=dt[['specimen__id','nrwkf__id']]"
   ]
  },
  {
   "cell_type": "code",
   "execution_count": 23,
   "metadata": {},
   "outputs": [
    {
     "name": "stdout",
     "output_type": "stream",
     "text": [
      "137.999006609 76.6409328155\n"
     ]
    },
    {
     "data": {
      "image/png": "[encoded data removed]",
      "text/plain": [
       "<Figure size 432x288 with 1 Axes>"
      ]
     },
     "metadata": {
      "needs_background": "light"
     },
     "output_type": "display_data"
    }
   ],
   "source": [
    "eph_keys=[k for k in dt.keys() if k[:2]=='ef' or k=='specimen__id']\n",
    "dt_eph=dt[eph_keys]\n",
    "tau=dt_eph['ef__tau']\n",
    "ri=dt_eph['ef__ri']\n",
    "hist(ri,10)\n",
    "print mean(ri),std(ri)"
   ]
  }
 ],
 "metadata": {
  "kernelspec": {
   "display_name": "Python 2",
   "language": "python",
   "name": "python2"
  },
  "language_info": {
   "codemirror_mode": {
    "name": "ipython",
    "version": 2
   },
   "file_extension": ".py",
   "mimetype": "text/x-python",
   "name": "python",
   "nbconvert_exporter": "python",
   "pygments_lexer": "ipython2",
   "version": "2.7.16"
  }
 },
 "nbformat": 4,
 "nbformat_minor": 2
}
